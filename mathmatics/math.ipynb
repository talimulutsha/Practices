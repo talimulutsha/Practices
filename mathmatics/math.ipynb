{
 "cells": [
  {
   "cell_type": "markdown",
   "metadata": {},
   "source": [
    "Linear algebra in python\n"
   ]
  },
  {
   "cell_type": "code",
   "execution_count": 1,
   "metadata": {},
   "outputs": [],
   "source": [
    "# importing libraries\n",
    "import numpy as np"
   ]
  },
  {
   "cell_type": "markdown",
   "metadata": {},
   "source": [
    "2x + 3y =8\n",
    "\n",
    "5x + 4y=20\n"
   ]
  },
  {
   "cell_type": "code",
   "execution_count": 5,
   "metadata": {},
   "outputs": [
    {
     "data": {
      "text/plain": [
       "array([[2, 3],\n",
       "       [5, 4]])"
      ]
     },
     "execution_count": 5,
     "metadata": {},
     "output_type": "execute_result"
    }
   ],
   "source": [
    "# coefficient matrix\n",
    "A = np.array([[2,3], [5,4]]) #2x2 matrix\n",
    "A"
   ]
  },
  {
   "cell_type": "code",
   "execution_count": 10,
   "metadata": {},
   "outputs": [
    {
     "data": {
      "text/plain": [
       "array([ 8, 20])"
      ]
     },
     "execution_count": 10,
     "metadata": {},
     "output_type": "execute_result"
    }
   ],
   "source": [
    "# constant matrix B\n",
    "B = np.array([8,20])\n",
    "B"
   ]
  },
  {
   "cell_type": "code",
   "execution_count": 11,
   "metadata": {},
   "outputs": [
    {
     "data": {
      "text/plain": [
       "array([4., 0.])"
      ]
     },
     "execution_count": 11,
     "metadata": {},
     "output_type": "execute_result"
    }
   ],
   "source": [
    "# solve for x\n",
    "X= np.linalg.solve(A,B)\n",
    "X"
   ]
  },
  {
   "cell_type": "code",
   "execution_count": 12,
   "metadata": {},
   "outputs": [
    {
     "data": {
      "text/plain": [
       "array([4., 0.])"
      ]
     },
     "execution_count": 12,
     "metadata": {},
     "output_type": "execute_result"
    }
   ],
   "source": [
    "# solve for Y\n",
    "Y = np.linalg.solve(A,B)\n",
    "Y"
   ]
  },
  {
   "cell_type": "markdown",
   "metadata": {},
   "source": [
    "### Solving complex Equations"
   ]
  },
  {
   "cell_type": "code",
   "execution_count": 13,
   "metadata": {},
   "outputs": [
    {
     "data": {
      "text/plain": [
       "array([[1.+2.j, 2.-1.j],\n",
       "       [3.-1.j, 4.+0.j]])"
      ]
     },
     "execution_count": 13,
     "metadata": {},
     "output_type": "execute_result"
    }
   ],
   "source": [
    "# coefficient matrix with complex number\n",
    "C = np.array([[1+2j,2-1j], [3-1j,4]])\n",
    "C"
   ]
  },
  {
   "cell_type": "code",
   "execution_count": 14,
   "metadata": {},
   "outputs": [
    {
     "data": {
      "text/plain": [
       "array([4.+1.j, 3.+4.j])"
      ]
     },
     "execution_count": 14,
     "metadata": {},
     "output_type": "execute_result"
    }
   ],
   "source": [
    "# constant matrix D with complex number\n",
    "D = np.array([4+1j,3+4j])\n",
    "D"
   ]
  },
  {
   "cell_type": "code",
   "execution_count": 15,
   "metadata": {},
   "outputs": [
    {
     "data": {
      "text/plain": [
       "array([-0.11176471-0.45294118j,  0.94705882+1.31176471j])"
      ]
     },
     "execution_count": 15,
     "metadata": {},
     "output_type": "execute_result"
    }
   ],
   "source": [
    "X=np.linalg.solve(C,D)\n",
    "X"
   ]
  },
  {
   "cell_type": "markdown",
   "metadata": {},
   "source": [
    "## Vector in python"
   ]
  },
  {
   "cell_type": "code",
   "execution_count": 16,
   "metadata": {},
   "outputs": [],
   "source": [
    "# importing libraries\n",
    "import numpy as np\n",
    "import matplotlib.pyplot as plt\n"
   ]
  },
  {
   "cell_type": "code",
   "execution_count": 17,
   "metadata": {},
   "outputs": [
    {
     "data": {
      "text/plain": [
       "array([2, 3])"
      ]
     },
     "execution_count": 17,
     "metadata": {},
     "output_type": "execute_result"
    }
   ],
   "source": [
    "# create a vector\n",
    "v = np.array([2,3])\n",
    "v"
   ]
  },
  {
   "cell_type": "code",
   "execution_count": 19,
   "metadata": {},
   "outputs": [
    {
     "data": {
      "image/png": "[encoded data removed]",
      "text/plain": [
       "<Figure size 640x480 with 1 Axes>"
      ]
     },
     "metadata": {},
     "output_type": "display_data"
    }
   ],
   "source": [
    "# plot the vector v\n",
    "plt.figure()\n",
    "plt.quiver(0,0,v[0],v[1],angles='xy', scale_units='xy',scale=1, color='r')\n",
    "plt.xlim(0,5)\n",
    "plt.ylim(0,5)\n",
    "plt.grid()\n",
    "plt.title('2D Vector')\n",
    "plt.xlabel('x-axis')\n",
    "plt.ylabel('y-axis')\n",
    "plt.gca().set_aspect('equal', adjustable='box')\n",
    "plt.show()"
   ]
  },
  {
   "cell_type": "markdown",
   "metadata": {},
   "source": [
    "Linear transformation"
   ]
  },
  {
   "cell_type": "code",
   "execution_count": 20,
   "metadata": {},
   "outputs": [
    {
     "data": {
      "image/png": "[encoded data removed]",
      "text/plain": [
       "<Figure size 640x480 with 1 Axes>"
      ]
     },
     "metadata": {},
     "output_type": "display_data"
    }
   ],
   "source": [
    "# define the rotation matrix for 45 degrees rotation\n",
    "theta = np.radians(45)\n",
    "rotation_matrix = np.array([[np.cos(theta), -np.sin(theta)], [np.sin(theta), np.cos(theta)]])\n",
    "rotation_matrix\n",
    "# applying the transformation\n",
    "v_transform= np.dot(rotation_matrix,v)\n",
    "\n",
    "\n",
    "# plotting the original and transformed vectors\n",
    "plt.figure()\n",
    "plt.quiver(0,0,v[0],v[1],angles='xy', scale_units='xy',scale=1, color='r',label='Original vector')\n",
    "plt.quiver(0,0,v_transform[0],v_transform[1],angles='xy', scale_units='xy',scale=1, color='b')\n",
    "plt.xlim(-1,5)\n",
    "plt.ylim(-1,5)\n",
    "plt.grid()\n",
    "plt.title('2D Vector')\n",
    "plt.xlabel('x-axis')\n",
    "plt.ylabel('y-axis')\n",
    "plt.legend()\n",
    "plt.gca().set_aspect('equal', adjustable='box')\n",
    "plt.show()\n",
    "\n"
   ]
  },
  {
   "cell_type": "markdown",
   "metadata": {},
   "source": [
    "## Shear transformation"
   ]
  },
  {
   "cell_type": "markdown",
   "metadata": {},
   "source": [
    "# SVD in python"
   ]
  },
  {
   "cell_type": "code",
   "execution_count": 23,
   "metadata": {},
   "outputs": [
    {
     "data": {
      "text/plain": [
       "array([[0.47634021, 0.58080089, 0.91060539],\n",
       "       [0.77097159, 0.95247519, 0.76303037],\n",
       "       [0.64496327, 0.75930257, 0.05722242],\n",
       "       [0.24999712, 0.12464836, 0.54435335]])"
      ]
     },
     "execution_count": 23,
     "metadata": {},
     "output_type": "execute_result"
    }
   ],
   "source": [
    "# generate a matrix of 4x3 dataset\n",
    "A = np.random.rand(4,3)\n",
    "A"
   ]
  },
  {
   "cell_type": "code",
   "execution_count": 24,
   "metadata": {},
   "outputs": [
    {
     "data": {
      "text/plain": [
       "SVDResult(U=array([[-0.54276751,  0.47479452,  0.33544971, -0.60617414],\n",
       "       [-0.69014941, -0.09275837,  0.2380831 ,  0.67705696],\n",
       "       [-0.40903448, -0.74882347, -0.33065877, -0.40326043],\n",
       "       [-0.24857196,  0.45302257, -0.8493849 ,  0.10736767]]), S=array([2.08929218, 0.6864976 , 0.10479199]), Vh=array([[-0.53443079, -0.62899535, -0.56457824],\n",
       "       [-0.31327078, -0.4729864 ,  0.82349577],\n",
       "       [-0.78501283,  0.61696736,  0.05573263]]))"
      ]
     },
     "execution_count": 24,
     "metadata": {},
     "output_type": "execute_result"
    }
   ],
   "source": [
    "# lets apply svd here\n",
    "np.linalg.svd(A)"
   ]
  },
  {
   "cell_type": "code",
   "execution_count": 25,
   "metadata": {},
   "outputs": [
    {
     "name": "stdout",
     "output_type": "stream",
     "text": [
      "U Matrix= [[-0.54276751  0.47479452  0.33544971 -0.60617414]\n",
      " [-0.69014941 -0.09275837  0.2380831   0.67705696]\n",
      " [-0.40903448 -0.74882347 -0.33065877 -0.40326043]\n",
      " [-0.24857196  0.45302257 -0.8493849   0.10736767]]\n",
      "--------------------------------\n",
      "Sigma Matrix= [2.08929218 0.6864976  0.10479199]\n",
      "--------------------------------\n",
      "VT Matrix= [[-0.53443079 -0.62899535 -0.56457824]\n",
      " [-0.31327078 -0.4729864   0.82349577]\n",
      " [-0.78501283  0.61696736  0.05573263]]\n"
     ]
    }
   ],
   "source": [
    "# lets apply SVD here\n",
    "U, Sigma, VT = np.linalg.svd(A)\n",
    "# print each matrix separately\n",
    "print(\"U Matrix=\", U)\n",
    "print(\"--------------------------------\")\n",
    "print(\"Sigma Matrix=\",Sigma)\n",
    "print(\"--------------------------------\")\n",
    "print(\"VT Matrix=\",VT)"
   ]
  }
 ],
 "metadata": {
  "kernelspec": {
   "display_name": "python_ml",
   "language": "python",
   "name": "python3"
  },
  "language_info": {
   "codemirror_mode": {
    "name": "ipython",
    "version": 3
   },
   "file_extension": ".py",
   "mimetype": "text/x-python",
   "name": "python",
   "nbconvert_exporter": "python",
   "pygments_lexer": "ipython3",
   "version": "3.11.5"
  }
 },
 "nbformat": 4,
 "nbformat_minor": 2
}
