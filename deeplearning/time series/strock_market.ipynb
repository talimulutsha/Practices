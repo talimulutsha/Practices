{
 "cells": [
  {
   "cell_type": "code",
   "execution_count": 30,
   "metadata": {},
   "outputs": [
    {
     "name": "stdout",
     "output_type": "stream",
     "text": [
      "230.5800018310547\n"
     ]
    },
    {
     "data": {
      "text/html": [
       "<div>\n",
       "<style scoped>\n",
       "    .dataframe tbody tr th:only-of-type {\n",
       "        vertical-align: middle;\n",
       "    }\n",
       "\n",
       "    .dataframe tbody tr th {\n",
       "        vertical-align: top;\n",
       "    }\n",
       "\n",
       "    .dataframe thead th {\n",
       "        text-align: right;\n",
       "    }\n",
       "</style>\n",
       "<table border=\"1\" class=\"dataframe\">\n",
       "  <thead>\n",
       "    <tr style=\"text-align: right;\">\n",
       "      <th></th>\n",
       "      <th>Open</th>\n",
       "      <th>High</th>\n",
       "      <th>Low</th>\n",
       "      <th>Close</th>\n",
       "      <th>Volume</th>\n",
       "      <th>Dividends</th>\n",
       "      <th>Stock Splits</th>\n",
       "    </tr>\n",
       "    <tr>\n",
       "      <th>Date</th>\n",
       "      <th></th>\n",
       "      <th></th>\n",
       "      <th></th>\n",
       "      <th></th>\n",
       "      <th></th>\n",
       "      <th></th>\n",
       "      <th></th>\n",
       "    </tr>\n",
       "  </thead>\n",
       "  <tbody>\n",
       "    <tr>\n",
       "      <th>2024-03-12 00:00:00-04:00</th>\n",
       "      <td>177.770004</td>\n",
       "      <td>179.429993</td>\n",
       "      <td>172.410004</td>\n",
       "      <td>177.539993</td>\n",
       "      <td>87391700</td>\n",
       "      <td>0.0</td>\n",
       "      <td>0.0</td>\n",
       "    </tr>\n",
       "    <tr>\n",
       "      <th>2024-03-13 00:00:00-04:00</th>\n",
       "      <td>173.050003</td>\n",
       "      <td>176.050003</td>\n",
       "      <td>169.149994</td>\n",
       "      <td>169.479996</td>\n",
       "      <td>106524500</td>\n",
       "      <td>0.0</td>\n",
       "      <td>0.0</td>\n",
       "    </tr>\n",
       "    <tr>\n",
       "      <th>2024-03-14 00:00:00-04:00</th>\n",
       "      <td>167.770004</td>\n",
       "      <td>171.169998</td>\n",
       "      <td>160.509995</td>\n",
       "      <td>162.500000</td>\n",
       "      <td>126325700</td>\n",
       "      <td>0.0</td>\n",
       "      <td>0.0</td>\n",
       "    </tr>\n",
       "    <tr>\n",
       "      <th>2024-03-15 00:00:00-04:00</th>\n",
       "      <td>163.160004</td>\n",
       "      <td>165.179993</td>\n",
       "      <td>160.759995</td>\n",
       "      <td>163.570007</td>\n",
       "      <td>96971900</td>\n",
       "      <td>0.0</td>\n",
       "      <td>0.0</td>\n",
       "    </tr>\n",
       "    <tr>\n",
       "      <th>2024-03-18 00:00:00-04:00</th>\n",
       "      <td>170.020004</td>\n",
       "      <td>174.720001</td>\n",
       "      <td>165.899994</td>\n",
       "      <td>173.800003</td>\n",
       "      <td>108214400</td>\n",
       "      <td>0.0</td>\n",
       "      <td>0.0</td>\n",
       "    </tr>\n",
       "  </tbody>\n",
       "</table>\n",
       "</div>"
      ],
      "text/plain": [
       "                                 Open        High         Low       Close  \\\n",
       "Date                                                                        \n",
       "2024-03-12 00:00:00-04:00  177.770004  179.429993  172.410004  177.539993   \n",
       "2024-03-13 00:00:00-04:00  173.050003  176.050003  169.149994  169.479996   \n",
       "2024-03-14 00:00:00-04:00  167.770004  171.169998  160.509995  162.500000   \n",
       "2024-03-15 00:00:00-04:00  163.160004  165.179993  160.759995  163.570007   \n",
       "2024-03-18 00:00:00-04:00  170.020004  174.720001  165.899994  173.800003   \n",
       "\n",
       "                              Volume  Dividends  Stock Splits  \n",
       "Date                                                           \n",
       "2024-03-12 00:00:00-04:00   87391700        0.0           0.0  \n",
       "2024-03-13 00:00:00-04:00  106524500        0.0           0.0  \n",
       "2024-03-14 00:00:00-04:00  126325700        0.0           0.0  \n",
       "2024-03-15 00:00:00-04:00   96971900        0.0           0.0  \n",
       "2024-03-18 00:00:00-04:00  108214400        0.0           0.0  "
      ]
     },
     "execution_count": 30,
     "metadata": {},
     "output_type": "execute_result"
    }
   ],
   "source": [
    "import yfinance as yf\n",
    "import pandas as pd\n",
    "\n",
    "# define ticker symbol\n",
    "tickerSymbol = \"TSLA\"\n",
    "\n",
    "# get data on this ticker\n",
    "tickerData = yf.Ticker(tickerSymbol)\n",
    "\n",
    "# get the historical prices for this ticker\n",
    "tickerDf = tickerData.history(period=\"1d\", start=start_date, end=end_date )\n",
    "\n",
    "# print(tickerDf)\n",
    "\n",
    "# last closing price\n",
    "print(tickerDf[\"Close\"].iloc[-1])\n",
    "\n",
    "# # last volume\n",
    "# print(tickerDf[\"Volume\"].iloc[-1])\n",
    "tickerDf.head()"
   ]
  },
  {
   "cell_type": "code",
   "execution_count": 31,
   "metadata": {},
   "outputs": [
    {
     "name": "stdout",
     "output_type": "stream",
     "text": [
      "Index(['Open', 'High', 'Low', 'Close', 'Volume', 'Dividends', 'Stock Splits'], dtype='object')\n"
     ]
    }
   ],
   "source": [
    "print(tickerDf.columns)\n"
   ]
  },
  {
   "cell_type": "code",
   "execution_count": 32,
   "metadata": {},
   "outputs": [],
   "source": [
    "import pandas as pd\n",
    "import yfinance as yf  \n",
    "import datetime as dt \n",
    "from datetime import date, timedelta"
   ]
  },
  {
   "cell_type": "code",
   "execution_count": 33,
   "metadata": {},
   "outputs": [
    {
     "data": {
      "text/plain": [
       "datetime.date(2025, 3, 12)"
      ]
     },
     "execution_count": 33,
     "metadata": {},
     "output_type": "execute_result"
    }
   ],
   "source": [
    "date.today()"
   ]
  },
  {
   "cell_type": "code",
   "execution_count": 34,
   "metadata": {},
   "outputs": [
    {
     "name": "stdout",
     "output_type": "stream",
     "text": [
      "(250, 7)\n"
     ]
    }
   ],
   "source": [
    "print(tickerDf.shape)\n"
   ]
  },
  {
   "cell_type": "code",
   "execution_count": 39,
   "metadata": {},
   "outputs": [],
   "source": [
    "\n",
    "\n",
    "\n",
    "today= date.today()\n",
    "d1= today.strftime(\"%Y-%m-%d\")\n",
    "d1\n",
    "d2= (today-timedelta(days=365)).strftime(\"%Y-%m-%d\")\n",
    "d2\n",
    "\n",
    "\n",
    "start_date=d2\n",
    "end_date=d1"
   ]
  },
  {
   "cell_type": "code",
   "execution_count": 41,
   "metadata": {},
   "outputs": [],
   "source": [
    "import yfinance as yf\n",
    "import pandas as pd\n",
    "\n",
    "# save the data to csv file\n",
    "tickerDf.to_csv('stock_data.csv')\n"
   ]
  }
 ],
 "metadata": {
  "kernelspec": {
   "display_name": "tf_env",
   "language": "python",
   "name": "python3"
  },
  "language_info": {
   "codemirror_mode": {
    "name": "ipython",
    "version": 3
   },
   "file_extension": ".py",
   "mimetype": "text/x-python",
   "name": "python",
   "nbconvert_exporter": "python",
   "pygments_lexer": "ipython3",
   "version": "3.8.20"
  }
 },
 "nbformat": 4,
 "nbformat_minor": 2
}
