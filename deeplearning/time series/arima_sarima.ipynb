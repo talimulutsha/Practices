{
 "cells": [
  {
   "cell_type": "markdown",
   "metadata": {},
   "source": [
    "Time series data consists of observations collected sequentially over time. It is used to analyze trends, seasonal patterns, and other time-dependent behaviors, and it's often employed in forecasting and other temporal analyses.\n",
    "\n"
   ]
  },
  {
   "cell_type": "code",
   "execution_count": 33,
   "metadata": {},
   "outputs": [],
   "source": [
    "import pandas as pd\n",
    "import numpy as np\n",
    "import matplotlib.pyplot as plt\n",
    "import yfinance as yf\n",
    "import seaborn as sns\n",
    "import datetime as dt\n",
    "from datetime import date, timedelta\n",
    "import plotly.graph_objects as go\n",
    "import plotly.express as px\n",
    "from statsmodels.tsa.arima.model import ARIMA\n",
    "from statsmodels.tsa.statespace.sarimax import SARIMAX\n",
    "from statsmodels.tsa.stattools import adfuller\n",
    "from statsmodels.tsa.seasonal import seasonal_decompose\n",
    "import plotly.express as px\n",
    "from statsmodels.tsa.arima.model import ARIMA\n",
    "from statsmodels.tsa.statespace.sarimax import SARIMAX\n",
    "from statsmodels.tsa.stattools import adfuller\n",
    "from statsmodels.tsa.seasonal import seasonal_decompose\n"
   ]
  },
  {
   "cell_type": "code",
   "execution_count": 34,
   "metadata": {},
   "outputs": [
    {
     "name": "stdout",
     "output_type": "stream",
     "text": []
    }
   ],
   "source": [
    "# define the dates to fetch data\n",
    "today = date.today()\n",
    "d1= today.strftime(\"%Y-%m-%d\")\n",
    "end_date = d1\n",
    "d2 = today - timedelta(days=365)\n",
    "d2 = d2.strftime(\"%Y-%m-%d\")\n",
    "start_date = d2\n",
    "\n",
    "# fetch the data from yahoo finance\n",
    "ticker = \"GOOGL\"\n",
    "df = yf.download(ticker, start_date, end_date, progress=False)\n",
    "print(df.head())\n",
    "\n",
    "\n"
   ]
  },
  {
   "cell_type": "code",
   "execution_count": 35,
   "metadata": {},
   "outputs": [
    {
     "name": "stdout",
     "output_type": "stream",
     "text": []
    }
   ],
   "source": [
    "from datetime import date, timedelta\n",
    "# define the dates to fetch data\n",
    "today = date.today()\n",
    "d1 = today.strftime(\"%Y-%m-%d\")\n",
    "end_date = d1\n",
    "d2 = date.today() - timedelta(days=730)\n",
    "d2 = d2.strftime(\"%Y-%m-%d\")\n",
    "start_date = d2\n",
    "print(\"data will be between these dates: \", start_date, \"and\", end_date)"
   ]
  },
  {
   "cell_type": "code",
   "execution_count": 36,
   "metadata": {},
   "outputs": [
    {
     "name": "stdout",
     "output_type": "stream",
     "text": []
    }
   ],
   "source": [
    "# define ticker\n",
    "ticker = 'GOOGL'\n",
    "df = yf.download(ticker, start_date, end_date, progress=False)\n",
    "print(df.head())\n"
   ]
  },
  {
   "cell_type": "code",
   "execution_count": 37,
   "metadata": {},
   "outputs": [],
   "source": [
    "df['Date'] = df.index\n",
    "df.reset_index(drop=True, inplace=True)"
   ]
  },
  {
   "cell_type": "code",
   "execution_count": 38,
   "metadata": {},
   "outputs": [],
   "source": [
    "df.insert(0, 'Date', df.index, True)"
   ]
  },
  {
   "cell_type": "code",
   "execution_count": 39,
   "metadata": {},
   "outputs": [
    {
     "name": "stdout",
     "output_type": "stream",
     "text": []
    }
   ],
   "source": [
    "df.info()"
   ]
  },
  {
   "cell_type": "code",
   "execution_count": 40,
   "metadata": {},
   "outputs": [],
   "source": [
    "df[\"Date\"] = df.index\n",
    "    "
   ]
  },
  {
   "cell_type": "code",
   "execution_count": 41,
   "metadata": {},
   "outputs": [],
   "source": [
    "# # select columns\n",
    "# df = df[[\"Date\", \"Close\"]]\n",
    "# df.head()"
   ]
  },
  {
   "cell_type": "code",
   "execution_count": 42,
   "metadata": {},
   "outputs": [
    {
     "name": "stdout",
     "output_type": "stream",
     "text": []
    }
   ],
   "source": [
    "#plot the data to see how it looks like\n",
    "plt.figure(figsize=(16,8))\n",
    "plt.plot(df[\"Date\"], df[\"Close\"])\n",
    "plt.xlabel(\"Time\")\n",
    "plt.ylabel(\"Price\")\n",
    "plt.show()\n",
    "\n",
    "\n"
   ]
  },
  {
   "cell_type": "code",
   "execution_count": 43,
   "metadata": {},
   "outputs": [
    {
     "name": "stdout",
     "output_type": "stream",
     "text": []
    }
   ],
   "source": [
    "df.info()\n"
   ]
  },
  {
   "cell_type": "code",
   "execution_count": 44,
   "metadata": {},
   "outputs": [
    {
     "name": "stdout",
     "output_type": "stream",
     "text": []
    }
   ],
   "source": [
    "df.describe()"
   ]
  },
  {
   "cell_type": "code",
   "execution_count": 45,
   "metadata": {},
   "outputs": [
    {
     "name": "stdout",
     "output_type": "stream",
     "text": []
    }
   ],
   "source": [
    "# stationarity check on data\n",
    "\n",
    "from statsmodels.tsa.stattools import adfuller\n",
    "result = adfuller(df[\"Close\"])\n",
    "print(\"ADF Statistic:\", result[0])\n",
    "print(\"p-value:\", result[1])\n",
    "print(\"Critical Values:\")\n",
    "for key, value in result[4].items():\n",
    "    print(\"\\t%s: %.3f\" % (key, value))\n"
   ]
  },
  {
   "cell_type": "markdown",
   "metadata": {},
   "source": [
    "Based on the ADF test results:\n",
    "\n",
    "The ADF Statistic is -1.883, which is not lower than the critical values (e.g., -3.444 at 1%),\n",
    "The p-value is 0.340 (above the common threshold of 0.05).\n",
    "Thus, you cannot reject the null hypothesis of a unit root, and the data is not stationary."
   ]
  },
  {
   "cell_type": "code",
   "execution_count": 46,
   "metadata": {},
   "outputs": [
    {
     "name": "stdout",
     "output_type": "stream",
     "text": []
    }
   ],
   "source": [
    "# decompose the data to see the trend, seasonality and residuals\n",
    "result = seasonal_decompose(df[\"Close\"], model='multiplicative', period=30)\n",
    "result.plot()\n",
    "plt.show()"
   ]
  },
  {
   "cell_type": "code",
   "execution_count": null,
   "metadata": {},
   "outputs": [
    {
     "name": "stdout",
     "output_type": "stream",
     "text": []
    },
    {
     "name": "stdout",
     "output_type": "stream",
     "text": []
    }
   ],
   "source": [
    "# plot autocorrelation and partial autocorrelation\n",
    "from statsmodels.graphics.tsaplots import plot_acf, plot_pacf\n",
    "plot_acf(df[\"Close\"], lags=30)\n",
    "plot_pacf(df[\"Close\"], lags=30)\n",
    "plt.show()from statsmodels.tsa.stattools import adfuller\n",
    "\n",
    "result = adfuller(df[\"Close\"])\n",
    "print(\"ADF Statistic: {:.3f}\".format(result[0]))\n",
    "print(\"p-value: {:.3f}\".format(result[1]))\n",
    "for key, value in result[4].items():\n",
    "    print(\"\\t{}: {:.3f}\".format(key, value))    from statsmodels.tsa.stattools import adfuller\n",
    "    \n",
    "    result = adfuller(df[\"Close\"])\n",
    "    print(\"ADF Statistic: {:.3f}\".format(result[0]))\n",
    "    print(\"p-value: {:.3f}\".format(result[1]))\n",
    "    for key, value in result[4].items():\n",
    "        print(\"\\t{}: {:.3f}\".format(key, value))        from statsmodels.tsa.stattools import adfuller\n",
    "        \n",
    "        result = adfuller(df[\"Close\"])\n",
    "        print(\"ADF Statistic: {:.3f}\".format(result[0]))\n",
    "        print(\"p-value: {:.3f}\".format(result[1]))\n",
    "        for key, value in result[4].items():\n",
    "            print(\"\\t{}: {:.3f}\".format(key, value))            from statsmodels.tsa.stattools import adfuller\n",
    "            \n",
    "            result = adfuller(df[\"Close\"])\n",
    "            print(\"ADF Statistic: {:.3f}\".format(result[0]))\n",
    "            print(\"p-value: {:.3f}\".format(result[1]))\n",
    "            for key, value in result[4].items():\n",
    "                print(\"\\t{}: {:.3f}\".format(key, value))"
   ]
  },
  {
   "cell_type": "code",
   "execution_count": 48,
   "metadata": {},
   "outputs": [
    {
     "name": "stdout",
     "output_type": "stream",
     "text": []
    }
   ],
   "source": [
    "from statsmodels.tsa.stattools import adfuller\n",
    "\n",
    "result = adfuller(df[\"Close\"])\n",
    "print(\"ADF Statistic: {:.3f}\".format(result[0]))\n",
    "print(\"p-value: {:.3f}\".format(result[1]))\n",
    "for key, value in result[4].items():\n",
    "    print(\"\\t{}: {:.3f}\".format(key, value))"
   ]
  },
  {
   "cell_type": "code",
   "execution_count": 57,
   "metadata": {},
   "outputs": [
    {
     "name": "stdout",
     "output_type": "stream",
     "text": []
    },
    {
     "name": "stdout",
     "output_type": "stream",
     "text": []
    },
    {
     "name": "stdout",
     "output_type": "stream",
     "text": []
    }
   ],
   "source": [
    "#  plots \n",
    "from statsmodels.graphics.tsaplots import plot_acf, plot_pacf\n",
    "pd.plotting.autocorrelation_plot(df[\"Close\"])\n",
    "plot_acf(df[\"Close\"], alpha=0.05) # type: ignore\n",
    "from statsmodels.tsa.stattools import acf, pacf\n",
    "x_acf = pd.DataFrame(acf(df[\"Close\"]))\n",
    "#x_acf.plot(kind='bar')\n",
    "print(x_acf)"
   ]
  },
  {
   "cell_type": "code",
   "execution_count": 58,
   "metadata": {},
   "outputs": [
    {
     "name": "stdout",
     "output_type": "stream",
     "text": []
    }
   ],
   "source": [
    "# lets find the q value\n",
    "# paritial autocorrelation\n",
    "from statsmodels.tsa.stattools import acf, pacf\n",
    "x_acf = pd.DataFrame(acf(df[\"Close\"])) # autocorrelation\n",
    "x_pacf = pd.DataFrame(pacf(df[\"Close\"])) # partial autocorrelation\n",
    "print(x_pacf)\n"
   ]
  },
  {
   "cell_type": "code",
   "execution_count": 61,
   "metadata": {},
   "outputs": [
    {
     "name": "stdout",
     "output_type": "stream",
     "text": []
    }
   ],
   "source": [
    "# New cell: Find the optimal d value (order of differencing)\n",
    "from statsmodels.tsa.stattools import adfuller\n",
    "\n",
    "def find_d(series):\n",
    "    d = 0\n",
    "    current_series = series.copy()\n",
    "    while True:\n",
    "        result = adfuller(current_series.dropna())\n",
    "        if result[1] < 0.05:\n",
    "            break\n",
    "        current_series = current_series.diff().dropna()\n",
    "        d += 1\n",
    "    return d\n",
    "\n",
    "d_value = find_d(df[\"Close\"])\n",
    "print(\"Optimal d value:\", d_value)"
   ]
  },
  {
   "cell_type": "code",
   "execution_count": null,
   "metadata": {},
   "outputs": [],
   "source": [
    "# p= o.340, d=1, q=2\n",
    "# define the variable p, q, d\n",
    "p = 0.340\n",
    "d = 1\n",
    "q = 2"
   ]
  },
  {
   "cell_type": "code",
   "execution_count": 62,
   "metadata": {},
   "outputs": [
    {
     "name": "stdout",
     "output_type": "stream",
     "text": []
    }
   ],
   "source": [
    "# lets run arima with pmdarima\n",
    "from pmdarima import auto_arima\n",
    "model = auto_arima(df[\"Close\"], start_p=0, start_q=0, max_p=5, max_q=5, m=12, start_P=0, seasonal=True, d=1, D=1, trace=True, error_action='ignore', suppress_warnings=True)\n"
   ]
  },
  {
   "cell_type": "markdown",
   "metadata": {},
   "source": [
    "# Auto arima to find best value and best modelde for ARIMA"
   ]
  },
  {
   "cell_type": "code",
   "execution_count": null,
   "metadata": {},
   "outputs": [],
   "source": [
    "# Auto arima to find best value and best modelde for ARIMA\n",
    "#model= auto_arima(df[\"Close\"], seasonal=True suppress_warnings=True)\n",
    "# print the summary of the model\n",
    "#print(model.summary()"
   ]
  },
  {
   "cell_type": "code",
   "execution_count": 63,
   "metadata": {},
   "outputs": [
    {
     "name": "stdout",
     "output_type": "stream",
     "text": []
    }
   ],
   "source": [
    "# print model summary\n",
    "print(model.summary())"
   ]
  },
  {
   "cell_type": "code",
   "execution_count": 66,
   "metadata": {},
   "outputs": [
    {
     "name": "stdout",
     "output_type": "stream",
     "text": []
    },
    {
     "name": "stdout",
     "output_type": "stream",
     "text": []
    }
   ],
   "source": [
    "# statsmodel and arima\n",
    "from statsmodels.tsa.arima.model import ARIMA\n",
    "p,d,q = 0,1,0\n",
    "model = ARIMA(df[\"Close\"], order=(p,d,q))\n",
    "model_fit = model.fit()\n",
    "print(model_fit.summary())\n",
    "\n",
    "# predict next 30 days\n",
    "forecast = model_fit.predict(steps=30)\n",
    "print(forecast)\n",
    "\n",
    "\n",
    "# plot the forecasted values\n",
    "import matplotlib.pyplot as plt\n",
    "plt.plot(df.index, df[\"Close\"])\n",
    "plt.plot(forecast.index, forecast)\n",
    "plt.show()\n",
    "\n"
   ]
  },
  {
   "cell_type": "code",
   "execution_count": 67,
   "metadata": {},
   "outputs": [
    {
     "name": "stdout",
     "output_type": "stream",
     "text": []
    }
   ],
   "source": [
    "# lets run sarimax with pmdarima\n",
    "import statsmodels.api as sm\n",
    "model = sm.tsa.statespace.SARIMAX(df[\"Close\"], order=(p,d,q), seasonal_order=(p,d,q,12))\n",
    "results = model.fit()\n",
    "print(results.summary())\n",
    "\n",
    "\n"
   ]
  },
  {
   "cell_type": "code",
   "execution_count": 69,
   "metadata": {},
   "outputs": [
    {
     "name": "stdout",
     "output_type": "stream",
     "text": []
    }
   ],
   "source": [
    "# plot the actual and predicted values of sarima model\n",
    "plt.plot(df.index, df[\"Close\"])\n",
    "plt.plot(results.predict().index, results.predict())\n",
    "plt.show()\n"
   ]
  },
  {
   "cell_type": "markdown",
   "metadata": {},
   "source": [
    "# Hyper parameter tuninging"
   ]
  },
  {
   "cell_type": "code",
   "execution_count": 73,
   "metadata": {},
   "outputs": [
    {
     "name": "stdout",
     "output_type": "stream",
     "text": []
    },
    {
     "name": "stdout",
     "output_type": "stream",
     "text": []
    },
    {
     "name": "stdout",
     "output_type": "stream",
     "text": []
    }
   ],
   "source": [
    "# hyperparameter tuning\n",
    "from sklearn.metrics import mean_squared_error\n",
    "import itertools\n",
    "from statsmodels.tsa.statespace.sarimax import SARIMAX\n",
    "p = d = q = range(0, 2)\n",
    "# generate all different combinations of p, d and q triplets\n",
    "pdq = list(itertools.product(p, d, q))\n",
    "# generate all different combinations of seasonal p, q and q triplets and m quadruplets\n",
    "seasonal_pdq = [(x[0], x[1], x[2], 12) for x in list(itertools.product(p, d, q))]\n",
    "\n",
    "best_aic = np.inf\n",
    "best_pdq = None\n",
    "best_seasonal_pdq = None\n",
    "temp_model = None\n",
    "\n",
    "for param in pdq:\n",
    "    for param_seasonal in seasonal_pdq:\n",
    "        try:\n",
    "            temp_model = SARIMAX(df[\"Close\"], order=param, seasonal_order=param_seasonal, enforce_stationarity=False, enforce_invertibility=False)\n",
    "            results = temp_model.fit()\n",
    "            if results.aic < best_aic:\n",
    "                best_aic = results.aic\n",
    "                best_pdq = param\n",
    "                best_seasonal_pdq = param_seasonal\n",
    "        except:\n",
    "            continue\n",
    "print(\"Best PDQ parameters:\", best_pdq)\n",
    "print(\"Best seasonal PDQ parameters:\", best_seasonal_pdq)\n",
    "print(\"Best AIC:\", best_aic)\n",
    "\n",
    "\n",
    "# predict the next 30 days\n",
    "model = SARIMAX(df[\"Close\"], order=best_pdq, seasonal_order=best_seasonal_pdq, enforce_stationarity=False, enforce_invertibility=False)\n",
    "results = model.fit()\n",
    "forecast = results.get_forecast(steps=30)\n",
    "print(forecast.summary_frame())\n",
    "print(forecast.predicted_mean)\n",
    "# plot the forecasted values\n",
    "plt.plot(df.index, df[\"Close\"])\n",
    "plt.plot(forecast.predicted_mean.index, forecast.predicted_mean)    \n",
    "plt.show()\n"
   ]
  }
 ],
 "metadata": {
  "kernelspec": {
   "display_name": "python_ml",
   "language": "python",
   "name": "python3"
  },
  "language_info": {
   "codemirror_mode": {
    "name": "ipython",
    "version": 3
   },
   "file_extension": ".py",
   "mimetype": "text/x-python",
   "name": "python",
   "nbconvert_exporter": "python",
   "pygments_lexer": "ipython3",
   "version": "3.11.5"
  }
 },
 "nbformat": 4,
 "nbformat_minor": 2
}
