{
 "cells": [
  {
   "cell_type": "markdown",
   "metadata": {},
   "source": [
    "SARIMA (Seasonal AutoRegressive Integrated Moving Average) is an extension of the ARIMA model that incorporates seasonality. It is widely used for time series forecasting when data exhibits seasonal patterns.\n",
    "\n",
    "SARIMA Notation\n",
    "A SARIMA model is represented as:\n",
    "\n",
    "𝑆\n",
    "𝐴\n",
    "𝑅\n",
    "𝐼\n",
    "𝑀\n",
    "𝐴\n",
    "(\n",
    "𝑝\n",
    ",\n",
    "𝑑\n",
    ",\n",
    "𝑞\n",
    ")\n",
    "×\n",
    "(\n",
    "𝑃\n",
    ",\n",
    "𝐷\n",
    ",\n",
    "𝑄\n",
    ",\n",
    "𝑠\n",
    ")\n",
    "SARIMA(p,d,q)×(P,D,Q,s)\n",
    "where:\n",
    "\n",
    "𝑝\n",
    "p = order of the autoregressive (AR) term\n",
    "𝑑\n",
    "d = degree of differencing (to make the series stationary)\n",
    "𝑞\n",
    "q = order of the moving average (MA) term\n",
    "𝑃\n",
    "P = seasonal autoregressive order\n",
    "𝐷\n",
    "D = seasonal differencing order\n",
    "𝑄\n",
    "Q = seasonal moving average order\n",
    "𝑠\n",
    "s = seasonality period (e.g., 12 for monthly data, 4 for quarterly data)\n",
    "When to Use SARIMA?\n",
    "When your data has both trend and seasonality.\n",
    "When traditional ARIMA models do not capture seasonal fluctuations."
   ]
  },
  {
   "cell_type": "code",
   "execution_count": 3,
   "metadata": {},
   "outputs": [],
   "source": [
    "import pandas as pd\n",
    "import numpy as np\n",
    "import matplotlib.pyplot as plt\n",
    "import yfinance as yf\n",
    "import seaborn as sns\n",
    "import datetime as dt\n",
    "from datetime import date, timedelta\n",
    "import plotly.graph_objects as go\n",
    "import plotly.express as px\n",
    "from statsmodels.tsa.arima.model import ARIMA\n",
    "from statsmodels.tsa.statespace.sarimax import SARIMAX\n",
    "from statsmodels.tsa.stattools import adfuller\n",
    "from statsmodels.tsa.seasonal import seasonal_decompose\n",
    "import plotly.express as px\n",
    "from statsmodels.tsa.arima.model import ARIMA\n",
    "from statsmodels.tsa.statespace.sarimax import SARIMAX\n",
    "from statsmodels.tsa.stattools import adfuller\n",
    "from statsmodels.tsa.seasonal import seasonal_decompose\n"
   ]
  },
  {
   "cell_type": "code",
   "execution_count": 1,
   "metadata": {},
   "outputs": [
    {
     "name": "stdout",
     "output_type": "stream",
     "text": []
    }
   ],
   "source": [
    "from datetime import date, timedelta\n",
    "# define the dates to fetch data\n",
    "today = date.today()\n",
    "d1 = today.strftime(\"%Y-%m-%d\")\n",
    "end_date = d1\n",
    "d2 = date.today() - timedelta(days=739)\n",
    "d2 = d2.strftime(\"%Y-%m-%d\")\n",
    "start_date = d2\n",
    "print(\"data will be between these dates: \", start_date, \"and\", end_date)"
   ]
  },
  {
   "cell_type": "code",
   "execution_count": 4,
   "metadata": {},
   "outputs": [
    {
     "name": "stdout",
     "output_type": "stream",
     "text": []
    },
    {
     "name": "stdout",
     "output_type": "stream",
     "text": []
    }
   ],
   "source": [
    "# define the ticker\n",
    "ticker= \"GOOGL\"\n",
    "df=yf.download(ticker, start_date, end_date, progress= False)\n",
    "df.head()"
   ]
  },
  {
   "cell_type": "code",
   "execution_count": null,
   "metadata": {},
   "outputs": [
    {
     "name": "stdout",
     "output_type": "stream",
     "text": []
    }
   ],
   "source": [
    "# prompt: Using dataframe df: df.columns\n",
    "\n",
    "# Print the column names of the DataFrame.\n",
    "df.columns\n"
   ]
  },
  {
   "cell_type": "code",
   "execution_count": null,
   "metadata": {},
   "outputs": [],
   "source": [
    "# prompt: add a new column name it date which is equal to df.index\n",
    "\n",
    "df['Date'] = df.index\n",
    "df.reset_index(drop=True, inplace=True)\n",
    "\n"
   ]
  },
  {
   "cell_type": "code",
   "execution_count": null,
   "metadata": {},
   "outputs": [],
   "source": [
    "df.insert(0, 'Date', df.index, True)"
   ]
  },
  {
   "cell_type": "code",
   "execution_count": null,
   "metadata": {},
   "outputs": [
    {
     "name": "stdout",
     "output_type": "stream",
     "text": []
    }
   ],
   "source": [
    "df.info()"
   ]
  },
  {
   "cell_type": "code",
   "execution_count": null,
   "metadata": {},
   "outputs": [
    {
     "name": "stdout",
     "output_type": "stream",
     "text": []
    }
   ],
   "source": [
    "# Plot Date vs Close column as a line plot\n",
    "plt.figure(figsize=(10, 5))\n",
    "plt.plot(df['Date'], df['Close'], linestyle='-', color='b')\n",
    "plt.xlabel('Date')\n",
    "plt.ylabel('Close')\n",
    "plt.title('Stock Close Price Over Time')\n",
    "plt.xticks(rotation=45)\n",
    "plt.tight_layout()\n",
    "plt.show()"
   ]
  },
  {
   "cell_type": "code",
   "execution_count": null,
   "metadata": {},
   "outputs": [
    {
     "name": "stdout",
     "output_type": "stream",
     "text": []
    }
   ],
   "source": [
    "import pandas as pd\n",
    "import matplotlib.pyplot as plt\n",
    "\n",
    "# Remove duplicate 'Date' column\n",
    "df = df.loc[:,~df.columns.duplicated()]\n",
    "\n",
    "# Assuming df is your DataFrame and it has 'Date' and 'Close' columns\n",
    "# Convert 'Date' column to datetime if it's not already\n",
    "df['Date'] = pd.to_datetime(df['Date'])\n",
    "\n",
    "# Plot Date vs Close column as a line plot\n",
    "plt.figure(figsize=(10, 5))\n",
    "plt.plot(df['Date'], df['Close'], linestyle='-', color='b')\n",
    "plt.xlabel('Date')\n",
    "plt.ylabel('Close')\n",
    "plt.title('Stock Close Price Over Time')\n",
    "plt.xticks(rotation=45)\n",
    "plt.tight_layout()\n",
    "plt.show()"
   ]
  },
  {
   "cell_type": "code",
   "execution_count": null,
   "metadata": {},
   "outputs": [
    {
     "name": "stdout",
     "output_type": "stream",
     "text": []
    }
   ],
   "source": [
    "# Perform the Augmented Dickey-Fuller test on the 'Close' prices to check for stationarity.\n",
    "# Note: Using df[df.columns[1]] selects the 'Close, GOOGL' column.\n",
    "\n",
    "close_series = df[df.columns[1]]\n",
    "adf_result = adfuller(close_series)\n",
    "\n",
    "print(\"ADF Statistic: {:.6f}\".format(adf_result[0]))\n",
    "print(\"p-value: {:.6f}\".format(adf_result[1]))\n",
    "print(\"Critical Values:\")\n",
    "for key, value in adf_result[4].items():\n",
    "    print(\"   {}: {:.3f}\".format(key, value))"
   ]
  },
  {
   "cell_type": "code",
   "execution_count": null,
   "metadata": {},
   "outputs": [
    {
     "name": "stdout",
     "output_type": "stream",
     "text": []
    }
   ],
   "source": [
    "# New cell: Perform seasonal decomposition\n",
    "from statsmodels.tsa.seasonal import seasonal_decompose\n",
    "import matplotlib.pyplot as plt\n",
    "\n",
    "decomposition = seasonal_decompose(df['Close'], period=30, model='additive')\n",
    "fig = decomposition.plot()\n",
    "fig.set_size_inches(10, 8)\n",
    "plt.tight_layout()\n",
    "plt.show()"
   ]
  },
  {
   "cell_type": "code",
   "execution_count": null,
   "metadata": {},
   "outputs": [
    {
     "name": "stdout",
     "output_type": "stream",
     "text": []
    }
   ],
   "source": [
    "from statsmodels.tsa.stattools import adfuller\n",
    "\n",
    "# Ensure that 'df' is defined before proceeding.\n",
    "if 'df' not in globals():\n",
    "    import yfinance as yf\n",
    "    import datetime as dt\n",
    "    from datetime import date, timedelta\n",
    "    today = date.today()\n",
    "    d1 = today.strftime(\"%Y-%m-%d\")\n",
    "    end_date = d1\n",
    "    d2 = date.today() - timedelta(days=739)\n",
    "    start_date = d2.strftime(\"%Y-%m-%d\")\n",
    "    ticker = \"GOOGL\"\n",
    "    df = yf.download(ticker, start_date, end_date, progress=False)\n",
    "\n",
    "if 'decomposition' not in globals():\n",
    "    from statsmodels.tsa.seasonal import seasonal_decompose\n",
    "    decomposition = seasonal_decompose(df['Close'], period=30, model='additive')\n",
    "\n",
    "# Drop missing values from residuals\n",
    "residuals = decomposition.resid.dropna()\n",
    "\n",
    "# Perform ADF test on the residuals\n",
    "adf_result_res = adfuller(residuals)\n",
    "print(\"ADF Statistic: {:.6f}\".format(adf_result_res[0]))\n",
    "print(\"p-value: {:.6f}\".format(adf_result_res[1]))\n",
    "print(\"Critical Values:\")\n",
    "for key, value in adf_result_res[4].items():\n",
    "    print(\"   {}: {:.3f}\".format(key, value))"
   ]
  },
  {
   "cell_type": "code",
   "execution_count": null,
   "metadata": {},
   "outputs": [
    {
     "name": "stdout",
     "output_type": "stream",
     "text": []
    }
   ],
   "source": [
    "from statsmodels.graphics.tsaplots import plot_acf, plot_pacf\n",
    "\n",
    "import matplotlib.pyplot as plt\n",
    "\n",
    "fig, axes = plt.subplots(1, 2, figsize=(16, 4))\n",
    "\n",
    "# Plot the Autocorrelation Function (ACF)\n",
    "plot_acf(residuals, lags=40, ax=axes[0])\n",
    "axes[0].set_title(\"ACF of Residuals\")\n",
    "\n",
    "# Plot the Partial Autocorrelation Function (PACF)\n",
    "plot_pacf(residuals, lags=40, ax=axes[1], method='ywm')\n",
    "axes[1].set_title(\"PACF of Residuals\")\n",
    "\n",
    "plt.tight_layout()\n",
    "plt.show()\n",
    "\n",
    "# Note: Examine the PACF plot and choose the lag where the coefficients drop off;\n",
    "# that lag represents the recommended value for p (AR order)."
   ]
  },
  {
   "cell_type": "code",
   "execution_count": null,
   "metadata": {},
   "outputs": [
    {
     "name": "stdout",
     "output_type": "stream",
     "text": []
    },
    {
     "name": "stdout",
     "output_type": "stream",
     "text": []
    },
    {
     "name": "stdout",
     "output_type": "stream",
     "text": []
    },
    {
     "name": "stdout",
     "output_type": "stream",
     "text": []
    }
   ],
   "source": [
    "import pandas as pd\n",
    "import pmdarima as pm\n",
    "\n",
    "# Ensure the index is in datetime format\n",
    "df.index = pd.to_datetime(df.index)\n",
    "\n",
    "# Select the Close price series (from the second column)\n",
    "close_series = df[df.columns[1]]\n",
    "\n",
    "# Fit an ARIMA model with order=(2,1,2) (non-seasonal)\n",
    "model = pm.ARIMA(order=(2, 1, 2), seasonal=False)\n",
    "model.fit(close_series)\n",
    "print(model.summary())\n",
    "\n",
    "# Forecast the next 30 time steps\n",
    "n_periods = 30\n",
    "forecast, conf_int = model.predict(n_periods=n_periods, return_conf_int=True)\n",
    "\n",
    "# Create a date range starting from the last date in the original df for plotting\n",
    "forecast_index = pd.date_range(start=df.index[-1] + pd.Timedelta(days=1), periods=n_periods, freq='D')\n",
    "\n",
    "# Plot historical data and forecast\n",
    "plt.figure(figsize=(10, 5))\n",
    "plt.plot(df.index, close_series, label='Historical')\n",
    "plt.plot(forecast_index, forecast, color='red', label='Forecast')\n",
    "plt.fill_between(forecast_index, conf_int[:, 0], conf_int[:, 1], color='pink', alpha=0.3, label='Confidence Interval')\n",
    "plt.xlabel('Date')\n",
    "plt.ylabel('Close Price')\n",
    "plt.title('ARIMA Forecast (order=(2,1,2))')\n",
    "plt.legend()\n",
    "plt.xticks(rotation=45)\n",
    "plt.tight_layout()\n",
    "plt.show()"
   ]
  },
  {
   "cell_type": "code",
   "execution_count": null,
   "metadata": {},
   "outputs": [],
   "source": []
  }
 ],
 "metadata": {
  "kernelspec": {
   "display_name": "python_ml",
   "language": "python",
   "name": "python3"
  },
  "language_info": {
   "codemirror_mode": {
    "name": "ipython",
    "version": 3
   },
   "file_extension": ".py",
   "mimetype": "text/x-python",
   "name": "python",
   "nbconvert_exporter": "python",
   "pygments_lexer": "ipython3",
   "version": "3.11.5"
  }
 },
 "nbformat": 4,
 "nbformat_minor": 2
}
